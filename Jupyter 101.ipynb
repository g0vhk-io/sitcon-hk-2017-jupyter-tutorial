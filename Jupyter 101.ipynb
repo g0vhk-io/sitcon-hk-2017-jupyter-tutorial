{
 "cells": [
  {
   "cell_type": "markdown",
   "metadata": {},
   "source": [
    "# Jupyter 101\n",
    "After this tutorial, you will learn how to manipulate and represent data with jupyter and python. You can clone the tutorial by the following command.\n",
    "\n",
    "```sh\n",
    "git clone  git@github.com:g0vhk-io/sitcon-hk-2017-jupyter-tutorial.git\n",
    "```\n",
    "\n",
    "## What is jupyter\n",
    "\n",
    "\n",
    "## Simple Mark Down\n",
    "\n"
   ]
  },
  {
   "cell_type": "code",
   "execution_count": 4,
   "metadata": {},
   "outputs": [
    {
     "data": {
      "image/jpeg": "[encoded data removed]",
      "text/html": [
       "\n",
       "        <iframe\n",
       "            width=\"400\"\n",
       "            height=\"300\"\n",
       "            src=\"https://www.youtube.com/embed/oHg5SJYRHA0\"\n",
       "            frameborder=\"0\"\n",
       "            allowfullscreen\n",
       "        ></iframe>\n",
       "        "
      ],
      "text/plain": [
       "<IPython.lib.display.YouTubeVideo at 0x10dc160f0>"
      ]
     },
     "execution_count": 4,
     "metadata": {},
     "output_type": "execute_result"
    }
   ],
   "source": [
    "from IPython.display import YouTubeVideo\n",
    "YouTubeVideo('oHg5SJYRHA0')"
   ]
  },
  {
   "cell_type": "code",
   "execution_count": 29,
   "metadata": {},
   "outputs": [
    {
     "data": {
      "text/html": [
       "<h1>Hello World</h1>\n",
       "<pre>\n",
       "int main() {\n",
       "    return 0;\n",
       "}\n",
       "</pre>"
      ],
      "text/plain": [
       "<IPython.core.display.HTML object>"
      ]
     },
     "metadata": {},
     "output_type": "display_data"
    }
   ],
   "source": [
    "%%HTML\n",
    "<h1>Hello World</h1>\n",
    "<pre>\n",
    "int main() {\n",
    "    return 0;\n",
    "}\n",
    "</pre>"
   ]
  },
  {
   "cell_type": "code",
   "execution_count": 30,
   "metadata": {},
   "outputs": [
    {
     "name": "stdout",
     "output_type": "stream",
     "text": [
      "appnope==0.1.0\r\n",
      "bleach==2.0.0\r\n",
      "certifi==2017.7.27.1\r\n",
      "chardet==3.0.4\r\n",
      "decorator==4.1.2\r\n",
      "entrypoints==0.2.3\r\n",
      "html5lib==0.999999999\r\n",
      "idna==2.6\r\n",
      "ipykernel==4.6.1\r\n",
      "ipython==6.2.0\r\n",
      "ipython-genutils==0.2.0\r\n",
      "ipywidgets==7.0.1\r\n",
      "jedi==0.11.0\r\n",
      "Jinja2==2.9.6\r\n",
      "jsonschema==2.6.0\r\n",
      "jupyter==1.0.0\r\n",
      "jupyter-client==5.1.0\r\n",
      "jupyter-console==5.2.0\r\n",
      "jupyter-core==4.3.0\r\n",
      "MarkupSafe==1.0\r\n",
      "mistune==0.7.4\r\n",
      "nbconvert==5.3.1\r\n",
      "nbformat==4.4.0\r\n",
      "notebook==5.1.0\r\n",
      "numpy==1.13.2\r\n",
      "pandas==0.20.3\r\n",
      "pandocfilters==1.4.2\r\n",
      "parso==0.1.0\r\n",
      "pexpect==4.2.1\r\n",
      "pickleshare==0.7.4\r\n",
      "plotly==2.0.15\r\n",
      "prompt-toolkit==1.0.15\r\n",
      "ptyprocess==0.5.2\r\n",
      "Pygments==2.2.0\r\n",
      "python-dateutil==2.6.1\r\n",
      "pytz==2017.2\r\n",
      "pyzmq==16.0.2\r\n",
      "qtconsole==4.3.1\r\n",
      "requests==2.18.4\r\n",
      "simplegeneric==0.8.1\r\n",
      "six==1.11.0\r\n",
      "terminado==0.6\r\n",
      "testpath==0.3.1\r\n",
      "tornado==4.5.2\r\n",
      "traitlets==4.3.2\r\n",
      "urllib3==1.22\r\n",
      "wcwidth==0.1.7\r\n",
      "webencodings==0.5.1\r\n",
      "widgetsnbextension==3.0.3\r\n"
     ]
    }
   ],
   "source": [
    "!pip freeze"
   ]
  },
  {
   "cell_type": "code",
   "execution_count": 13,
   "metadata": {},
   "outputs": [
    {
     "data": {
      "text/html": [
       "<div>\n",
       "<style>\n",
       "    .dataframe thead tr:only-child th {\n",
       "        text-align: right;\n",
       "    }\n",
       "\n",
       "    .dataframe thead th {\n",
       "        text-align: left;\n",
       "    }\n",
       "\n",
       "    .dataframe tbody tr th {\n",
       "        vertical-align: top;\n",
       "    }\n",
       "</style>\n",
       "<table border=\"1\" class=\"dataframe\">\n",
       "  <thead>\n",
       "    <tr style=\"text-align: right;\">\n",
       "      <th></th>\n",
       "      <th>Year</th>\n",
       "      <th>quantity</th>\n",
       "      <th>expenditure</th>\n",
       "    </tr>\n",
       "  </thead>\n",
       "  <tbody>\n",
       "    <tr>\n",
       "      <th>14</th>\n",
       "      <td>2011</td>\n",
       "      <td>818</td>\n",
       "      <td>3344</td>\n",
       "    </tr>\n",
       "    <tr>\n",
       "      <th>15</th>\n",
       "      <td>2012</td>\n",
       "      <td>709</td>\n",
       "      <td>3539</td>\n",
       "    </tr>\n",
       "    <tr>\n",
       "      <th>16</th>\n",
       "      <td>2013</td>\n",
       "      <td>612</td>\n",
       "      <td>3743</td>\n",
       "    </tr>\n",
       "    <tr>\n",
       "      <th>17</th>\n",
       "      <td>2014</td>\n",
       "      <td>724</td>\n",
       "      <td>3959</td>\n",
       "    </tr>\n",
       "    <tr>\n",
       "      <th>18</th>\n",
       "      <td>2015</td>\n",
       "      <td>766</td>\n",
       "      <td>4223</td>\n",
       "    </tr>\n",
       "  </tbody>\n",
       "</table>\n",
       "</div>"
      ],
      "text/plain": [
       "    Year  quantity  expenditure\n",
       "14  2011       818         3344\n",
       "15  2012       709         3539\n",
       "16  2013       612         3743\n",
       "17  2014       724         3959\n",
       "18  2015       766         4223"
      ]
     },
     "execution_count": 13,
     "metadata": {},
     "output_type": "execute_result"
    }
   ],
   "source": [
    "import plotly\n",
    "import pandas as pd\n",
    "\n",
    "\n",
    "df = pd.read_csv('water.csv')\n",
    "del df['Remarks']\n",
    "df[df['Year']>2010]"
   ]
  },
  {
   "cell_type": "markdown",
   "metadata": {},
   "source": [
    "## Water Quantity"
   ]
  },
  {
   "cell_type": "code",
   "execution_count": 22,
   "metadata": {},
   "outputs": [
    {
     "name": "stdout",
     "output_type": "stream",
     "text": [
      "High five! You successfully sent some data to your account on plotly. View your plot in your browser at https://plot.ly/~g0vhkio/0 or inside your plot.ly account where it is named 'basic-line'\n"
     ]
    },
    {
     "data": {
      "text/html": [
       "<iframe id=\"igraph\" scrolling=\"no\" style=\"border:none;\" seamless=\"seamless\" src=\"https://plot.ly/~g0vhkio/0.embed\" height=\"525px\" width=\"100%\"></iframe>"
      ],
      "text/plain": [
       "<plotly.tools.PlotlyDisplay object>"
      ]
     },
     "execution_count": 22,
     "metadata": {},
     "output_type": "execute_result"
    }
   ],
   "source": [
    "import plotly.plotly as py\n",
    "import plotly.graph_objs as go\n",
    "\n",
    "quantities = go.Scatter(\n",
    "    x = df['Year'],\n",
    "    y = df['quantity'],\n",
    "    name = 'quantity'\n",
    ")\n",
    "\n",
    "expenditures = go.Scatter(\n",
    "    x = df['Year'],\n",
    "    y = df['expenditure'],\n",
    "    name = 'expenditure'\n",
    ")\n",
    "\n",
    "data = [quantities, expenditures]\n",
    "plotly.tools.set_credentials_file(username='g0vhkio', api_key='EExyKfq9fHDaO8Or7NXL')\n",
    "\n",
    "py.iplot(data, filename='basic-line', title='Water')"
   ]
  },
  {
   "cell_type": "code",
   "execution_count": null,
   "metadata": {},
   "outputs": [],
   "source": []
  },
  {
   "cell_type": "code",
   "execution_count": null,
   "metadata": {},
   "outputs": [],
   "source": []
  },
  {
   "cell_type": "code",
   "execution_count": null,
   "metadata": {},
   "outputs": [],
   "source": []
  }
 ],
 "metadata": {
  "kernelspec": {
   "display_name": "Python 3",
   "language": "python",
   "name": "python3"
  },
  "language_info": {
   "codemirror_mode": {
    "name": "ipython",
    "version": 3
   },
   "file_extension": ".py",
   "mimetype": "text/x-python",
   "name": "python",
   "nbconvert_exporter": "python",
   "pygments_lexer": "ipython3",
   "version": "3.6.1"
  }
 },
 "nbformat": 4,
 "nbformat_minor": 2
}
